{
 "cells": [
  {
   "cell_type": "code",
   "execution_count": 1,
   "outputs": [],
   "source": [
    "import pandas as pd\n",
    "from IPython import display"
   ],
   "metadata": {
    "collapsed": false,
    "pycharm": {
     "name": "#%%\n"
    }
   }
  },
  {
   "cell_type": "code",
   "execution_count": null,
   "outputs": [],
   "source": [
    "order_data = pd.read_csv(\"../notebooks/output_data/order_data.csv\")\n",
    "order_data.head()"
   ],
   "metadata": {
    "collapsed": false,
    "pycharm": {
     "name": "#%%\n"
    }
   }
  },
  {
   "cell_type": "code",
   "execution_count": null,
   "outputs": [],
   "source": [
    "from ipywidgets import Dropdown\n",
    "\n",
    "def order_by_store(val):\n",
    "    display.clear_output()\n",
    "    display.display(dropdown)\n",
    "    pick_data = order_data.loc[(order_data[\"store_name\"]==val[\"new\"]) & (order_data[\"status\"].isin([1,2]))]\n",
    "    display.display(pick_data.head())\n",
    "\n",
    "store_list = order_data[\"store_name\"].tolist()\n",
    "dropdown = Dropdown(options=store_list)\n",
    "dropdown.observe(order_by_store, names=\"value\")\n",
    "display.display(dropdown)"
   ],
   "metadata": {
    "collapsed": false,
    "pycharm": {
     "name": "#%%\n"
    }
   }
  },
  {
   "cell_type": "code",
   "execution_count": null,
   "outputs": [],
   "source": [],
   "metadata": {
    "collapsed": false,
    "pycharm": {
     "name": "#%%\n"
    }
   }
  },
  {
   "cell_type": "code",
   "execution_count": null,
   "outputs": [],
   "source": [],
   "metadata": {
    "collapsed": false,
    "pycharm": {
     "name": "#%%\n"
    }
   }
  },
  {
   "cell_type": "code",
   "execution_count": null,
   "outputs": [],
   "source": [],
   "metadata": {
    "collapsed": false,
    "pycharm": {
     "name": "#%%\n"
    }
   }
  },
  {
   "cell_type": "code",
   "execution_count": null,
   "outputs": [],
   "source": [],
   "metadata": {
    "collapsed": false,
    "pycharm": {
     "name": "#%%\n"
    }
   }
  },
  {
   "cell_type": "code",
   "execution_count": null,
   "outputs": [],
   "source": [],
   "metadata": {
    "collapsed": false,
    "pycharm": {
     "name": "#%%\n"
    }
   }
  },
  {
   "cell_type": "code",
   "execution_count": 6,
   "metadata": {},
   "outputs": [],
   "source": []
  },
  {
   "cell_type": "code",
   "execution_count": 7,
   "metadata": {},
   "outputs": [
    {
     "data": {
      "text/html": [
       "<div>\n",
       "<style scoped>\n",
       "    .dataframe tbody tr th:only-of-type {\n",
       "        vertical-align: middle;\n",
       "    }\n",
       "\n",
       "    .dataframe tbody tr th {\n",
       "        vertical-align: top;\n",
       "    }\n",
       "\n",
       "    .dataframe thead th {\n",
       "        text-align: right;\n",
       "    }\n",
       "</style>\n",
       "<table border=\"1\" class=\"dataframe\">\n",
       "  <thead>\n",
       "    <tr style=\"text-align: right;\">\n",
       "      <th></th>\n",
       "      <th>order_id</th>\n",
       "      <th>store_id</th>\n",
       "      <th>customer_id</th>\n",
       "      <th>coupon_cd</th>\n",
       "      <th>sales_detail_id</th>\n",
       "      <th>order_accept_date</th>\n",
       "      <th>delivered_date</th>\n",
       "      <th>takeout_flag</th>\n",
       "      <th>total_amount</th>\n",
       "      <th>status</th>\n",
       "      <th>store_name</th>\n",
       "      <th>area_cd</th>\n",
       "      <th>wide_area</th>\n",
       "      <th>narrow_area</th>\n",
       "      <th>takeout_name</th>\n",
       "      <th>status_name</th>\n",
       "    </tr>\n",
       "  </thead>\n",
       "  <tbody>\n",
       "    <tr>\n",
       "      <th>0</th>\n",
       "      <td>16514392</td>\n",
       "      <td>64</td>\n",
       "      <td>C44271355</td>\n",
       "      <td>49</td>\n",
       "      <td>56527968</td>\n",
       "      <td>2020-06-01 11:00:00</td>\n",
       "      <td>2020-06-01 11:55:00</td>\n",
       "      <td>0</td>\n",
       "      <td>2732</td>\n",
       "      <td>2</td>\n",
       "      <td>西東京店</td>\n",
       "      <td>TK</td>\n",
       "      <td>東京</td>\n",
       "      <td>東京</td>\n",
       "      <td>デリバリー</td>\n",
       "      <td>お渡し済</td>\n",
       "    </tr>\n",
       "    <tr>\n",
       "      <th>1</th>\n",
       "      <td>28342394</td>\n",
       "      <td>12</td>\n",
       "      <td>C98307866</td>\n",
       "      <td>98</td>\n",
       "      <td>46924304</td>\n",
       "      <td>2020-06-01 11:00:00</td>\n",
       "      <td>2020-06-01 11:52:00</td>\n",
       "      <td>0</td>\n",
       "      <td>2064</td>\n",
       "      <td>2</td>\n",
       "      <td>西葛西店</td>\n",
       "      <td>TK</td>\n",
       "      <td>東京</td>\n",
       "      <td>東京</td>\n",
       "      <td>デリバリー</td>\n",
       "      <td>お渡し済</td>\n",
       "    </tr>\n",
       "    <tr>\n",
       "      <th>2</th>\n",
       "      <td>29799587</td>\n",
       "      <td>174</td>\n",
       "      <td>C59484037</td>\n",
       "      <td>45</td>\n",
       "      <td>47054474</td>\n",
       "      <td>2020-06-01 11:00:00</td>\n",
       "      <td>2020-06-01 11:25:00</td>\n",
       "      <td>0</td>\n",
       "      <td>3900</td>\n",
       "      <td>2</td>\n",
       "      <td>新座店</td>\n",
       "      <td>SA</td>\n",
       "      <td>埼玉</td>\n",
       "      <td>埼玉</td>\n",
       "      <td>デリバリー</td>\n",
       "      <td>お渡し済</td>\n",
       "    </tr>\n",
       "    <tr>\n",
       "      <th>3</th>\n",
       "      <td>96960753</td>\n",
       "      <td>23</td>\n",
       "      <td>C57278332</td>\n",
       "      <td>70</td>\n",
       "      <td>60848267</td>\n",
       "      <td>2020-06-01 11:00:00</td>\n",
       "      <td>2020-06-01 11:45:00</td>\n",
       "      <td>0</td>\n",
       "      <td>2750</td>\n",
       "      <td>2</td>\n",
       "      <td>江東店</td>\n",
       "      <td>TK</td>\n",
       "      <td>東京</td>\n",
       "      <td>東京</td>\n",
       "      <td>デリバリー</td>\n",
       "      <td>お渡し済</td>\n",
       "    </tr>\n",
       "    <tr>\n",
       "      <th>4</th>\n",
       "      <td>52147209</td>\n",
       "      <td>7</td>\n",
       "      <td>C36890849</td>\n",
       "      <td>80</td>\n",
       "      <td>20633593</td>\n",
       "      <td>2020-06-01 11:00:00</td>\n",
       "      <td>2020-06-01 11:23:00</td>\n",
       "      <td>0</td>\n",
       "      <td>2328</td>\n",
       "      <td>2</td>\n",
       "      <td>東尾久店</td>\n",
       "      <td>TK</td>\n",
       "      <td>東京</td>\n",
       "      <td>東京</td>\n",
       "      <td>デリバリー</td>\n",
       "      <td>お渡し済</td>\n",
       "    </tr>\n",
       "  </tbody>\n",
       "</table>\n",
       "</div>"
      ],
      "text/plain": [
       "   order_id  store_id customer_id  coupon_cd  sales_detail_id  \\\n",
       "0  16514392        64   C44271355         49         56527968   \n",
       "1  28342394        12   C98307866         98         46924304   \n",
       "2  29799587       174   C59484037         45         47054474   \n",
       "3  96960753        23   C57278332         70         60848267   \n",
       "4  52147209         7   C36890849         80         20633593   \n",
       "\n",
       "     order_accept_date       delivered_date  takeout_flag  total_amount  \\\n",
       "0  2020-06-01 11:00:00  2020-06-01 11:55:00             0          2732   \n",
       "1  2020-06-01 11:00:00  2020-06-01 11:52:00             0          2064   \n",
       "2  2020-06-01 11:00:00  2020-06-01 11:25:00             0          3900   \n",
       "3  2020-06-01 11:00:00  2020-06-01 11:45:00             0          2750   \n",
       "4  2020-06-01 11:00:00  2020-06-01 11:23:00             0          2328   \n",
       "\n",
       "   status store_name area_cd wide_area narrow_area takeout_name status_name  \n",
       "0       2       西東京店      TK        東京          東京        デリバリー        お渡し済  \n",
       "1       2       西葛西店      TK        東京          東京        デリバリー        お渡し済  \n",
       "2       2        新座店      SA        埼玉          埼玉        デリバリー        お渡し済  \n",
       "3       2        江東店      TK        東京          東京        デリバリー        お渡し済  \n",
       "4       2       東尾久店      TK        東京          東京        デリバリー        お渡し済  "
      ]
     },
     "execution_count": 7,
     "metadata": {},
     "output_type": "execute_result"
    }
   ],
   "source": [
    "order_data = pd.read_csv(\"../notebooks/output_data/order_data.csv\")\n",
    "order_data.head()"
   ]
  },
  {
   "cell_type": "code",
   "execution_count": 11,
   "metadata": {},
   "outputs": [
    {
     "data": {
      "application/vnd.jupyter.widget-view+json": {
       "model_id": "d22dabbabbcf45c2b25f6ef3214af392",
       "version_major": 2,
       "version_minor": 0
      },
      "text/plain": [
       "Dropdown(options=('西東京店', '西葛西店', '新座店', '江東店', '東尾久店', '久喜店', '江東店', '上野店', '高津店', '君津店', '宇都宮店', '西多摩店', '大宮…"
      ]
     },
     "metadata": {},
     "output_type": "display_data"
    }
   ],
   "source": [
    "from ipywidgets import Dropdown\n",
    "\n",
    "def order_by_store(val):\n",
    "    display.clear_output()\n",
    "    display.display(dropdown)\n",
    "    pick_data = order_data.loc[(order_data[\"store_name\"]==val[\"new\"]) & (order_data[\"status\"].isin([1,2]))]\n",
    "    display.display(pick_data.head())\n",
    "\n",
    "store_list = order_data[\"store_name\"].tolist()\n",
    "dropdown = Dropdown(options=store_list)\n",
    "dropdown.observe(order_by_store, names=\"value\")\n",
    "display.display(dropdown)"
   ]
  },
  {
   "cell_type": "code",
   "execution_count": 10,
   "metadata": {},
   "outputs": [],
   "source": []
  },
  {
   "cell_type": "code",
   "execution_count": null,
   "metadata": {},
   "outputs": [],
   "source": []
  },
  {
   "cell_type": "code",
   "execution_count": null,
   "metadata": {},
   "outputs": [],
   "source": []
  },
  {
   "cell_type": "code",
   "execution_count": null,
   "metadata": {},
   "outputs": [],
   "source": []
  },
  {
   "cell_type": "code",
   "execution_count": null,
   "metadata": {},
   "outputs": [],
   "source": []
  },
  {
   "cell_type": "code",
   "execution_count": null,
   "metadata": {},
   "outputs": [],
   "source": []
  }
 ],
 "metadata": {
  "kernelspec": {
   "display_name": "Python 3",
   "language": "python",
   "name": "python3"
  },
  "language_info": {
   "codemirror_mode": {
    "name": "ipython",
    "version": 3
   },
   "file_extension": ".py",
   "mimetype": "text/x-python",
   "name": "python",
   "nbconvert_exporter": "python",
   "pygments_lexer": "ipython3",
   "version": "3.8.3"
  }
 },
 "nbformat": 4,
 "nbformat_minor": 1
}